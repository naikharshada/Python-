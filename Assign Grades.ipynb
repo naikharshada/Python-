{
 "cells": [
  {
   "cell_type": "markdown",
   "metadata": {},
   "source": [
    "# WAP for taking one number a input and then using if elif else concept, assign a grade to the input number from\n",
    "A,B,C,D,E,Fail\n",
    "\n",
    "In a formatted report card Example:\n",
    "\n",
    "Input-97\n",
    "\n",
    "Output-|---|| A ||---|"
   ]
  },
  {
   "cell_type": "code",
   "execution_count": 1,
   "metadata": {},
   "outputs": [
    {
     "name": "stdout",
     "output_type": "stream",
     "text": [
      "Enter the percentage:97\n",
      "Grade is\n",
      "|---|| A ||---|\n"
     ]
    }
   ],
   "source": [
    "grade = int(input(\"Enter the percentage:\"))\n",
    "\n",
    "if 100 > grade > 0 :\n",
    "    print(\"Grade is\")\n",
    "    if grade >= 80 :\n",
    "        print(\"|---|| A ||---|\")\n",
    "    elif grade >= 70 :\n",
    "        print(\"|---|| B ||---|\")\n",
    "    elif grade >= 60 :\n",
    "        print(\"|---|| C ||---|\")\n",
    "    elif grade >= 50 :    \n",
    "        print(\"|---|| D ||---|\")\n",
    "    else :\n",
    "        print(\"Fail\")\n",
    "else :\n",
    "    print(\"Enter Valid Percentage\")"
   ]
  },
  {
   "cell_type": "code",
   "execution_count": null,
   "metadata": {},
   "outputs": [],
   "source": []
  },
  {
   "cell_type": "code",
   "execution_count": null,
   "metadata": {},
   "outputs": [],
   "source": [
    "\n"
   ]
  },
  {
   "cell_type": "code",
   "execution_count": null,
   "metadata": {},
   "outputs": [],
   "source": []
  },
  {
   "cell_type": "code",
   "execution_count": null,
   "metadata": {},
   "outputs": [],
   "source": []
  },
  {
   "cell_type": "code",
   "execution_count": null,
   "metadata": {},
   "outputs": [],
   "source": []
  }
 ],
 "metadata": {
  "kernelspec": {
   "display_name": "Python 3",
   "language": "python",
   "name": "python3"
  },
  "language_info": {
   "codemirror_mode": {
    "name": "ipython",
    "version": 3
   },
   "file_extension": ".py",
   "mimetype": "text/x-python",
   "name": "python",
   "nbconvert_exporter": "python",
   "pygments_lexer": "ipython3",
   "version": "3.6.5"
  }
 },
 "nbformat": 4,
 "nbformat_minor": 2
}
