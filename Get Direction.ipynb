{
 "cells": [
  {
   "cell_type": "markdown",
   "metadata": {},
   "source": [
    "# Question 5 "
   ]
  },
  {
   "cell_type": "code",
   "execution_count": 1,
   "metadata": {},
   "outputs": [
    {
     "name": "stdout",
     "output_type": "stream",
     "text": [
      "Enter the Encoded Massage :I love my Country.\n",
      "I LOVE MY COUNTRY.\n",
      "Cordinates of Target  Location is : ( 0 , 0 )\n"
     ]
    }
   ],
   "source": [
    "msg = input(\"Enter the Encoded Massage :\").upper()\n",
    "print(msg)\n",
    "\n",
    "for i in range(len(msg)) :\n",
    "    x = 0 \n",
    "    y = 0\n",
    "    if msg[i] == \"L\" :\n",
    "        x = x - 1\n",
    "    elif msg[i] == \"R\" :\n",
    "        x = x + 1\n",
    "    elif msg[i] == \"D\" :\n",
    "        y = y - 1\n",
    "    elif msg[i] == \"U\" :\n",
    "        y =y + 1\n",
    "    else :\n",
    "        continue\n",
    "print(\"Cordinates of Target  Location is : (\", x,\",\",y,\")\" )"
   ]
  },
  {
   "cell_type": "code",
   "execution_count": null,
   "metadata": {},
   "outputs": [],
   "source": []
  }
 ],
 "metadata": {
  "kernelspec": {
   "display_name": "Python 3",
   "language": "python",
   "name": "python3"
  },
  "language_info": {
   "codemirror_mode": {
    "name": "ipython",
    "version": 3
   },
   "file_extension": ".py",
   "mimetype": "text/x-python",
   "name": "python",
   "nbconvert_exporter": "python",
   "pygments_lexer": "ipython3",
   "version": "3.6.5"
  }
 },
 "nbformat": 4,
 "nbformat_minor": 2
}
