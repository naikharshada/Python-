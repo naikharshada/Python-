{
 "cells": [
  {
   "cell_type": "markdown",
   "metadata": {},
   "source": [
    "# Write a python Function for finding a given number prime or not and do Unit Testing on it using PyLint & Unit test Library."
   ]
  },
  {
   "cell_type": "code",
   "execution_count": null,
   "metadata": {},
   "outputs": [],
   "source": []
  },
  {
   "cell_type": "markdown",
   "metadata": {},
   "source": [
    "# Unit Testing "
   ]
  },
  {
   "cell_type": "code",
   "execution_count": null,
   "metadata": {},
   "outputs": [],
   "source": [
    "%%writefile pylint1.py\n",
    "def isPrime(N) :\n",
    "    '''\n",
    "    TO FIND GIVEN NO IS PRIME OR NOT\n",
    "    '''\n",
    "    if N > 1:\n",
    "        for i in range(2,N):\n",
    "            if (N % i) == 0:\n",
    "                print(no,\"is not a prime number\")\n",
    "                print(i,\"times\",N/i,\"is\",N)\n",
    "                break\n",
    "            else:\n",
    "                   print(N,\"is a prime number\")\n",
    "    else:\n",
    "        print(N,\"is not a prime number\")"
   ]
  },
  {
   "cell_type": "code",
   "execution_count": null,
   "metadata": {},
   "outputs": [],
   "source": [
    "!pylint pylint1.py"
   ]
  },
  {
   "cell_type": "markdown",
   "metadata": {},
   "source": [
    "# Unit test Library"
   ]
  },
  {
   "cell_type": "code",
   "execution_count": null,
   "metadata": {},
   "outputs": [],
   "source": [
    "%%writefile unittest2.py\n",
    "import unittest\n",
    "import pylint1\n",
    "\n",
    "class TestCheck(unittest.TestCase):\n",
    "    \n",
    "    def test_numbers(self):\n",
    "        N = 3\n",
    "        result = pylint1.isPrime(AN)\n",
    "        self.assertEqual(result,\"3 is a prime number\")\n",
    "if __name__ == '__main__':\n",
    "    unittest.main()"
   ]
  },
  {
   "cell_type": "code",
   "execution_count": null,
   "metadata": {},
   "outputs": [],
   "source": [
    "isPrime(3)"
   ]
  },
  {
   "cell_type": "code",
   "execution_count": null,
   "metadata": {},
   "outputs": [],
   "source": [
    "!pip install pylint"
   ]
  },
  {
   "cell_type": "code",
   "execution_count": null,
   "metadata": {},
   "outputs": [],
   "source": []
  }
 ],
 "metadata": {
  "kernelspec": {
   "display_name": "Python 3",
   "language": "python",
   "name": "python3"
  },
  "language_info": {
   "codemirror_mode": {
    "name": "ipython",
    "version": 3
   },
   "file_extension": ".py",
   "mimetype": "text/x-python",
   "name": "python",
   "nbconvert_exporter": "python",
   "pygments_lexer": "ipython3",
   "version": "3.6.5"
  }
 },
 "nbformat": 4,
 "nbformat_minor": 2
}
