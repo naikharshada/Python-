{
 "cells": [
  {
   "cell_type": "markdown",
   "metadata": {},
   "source": [
    "# Question 4"
   ]
  },
  {
   "cell_type": "code",
   "execution_count": null,
   "metadata": {},
   "outputs": [
    {
     "name": "stdout",
     "output_type": "stream",
     "text": [
      "Enter the Length :5\n",
      "Enter the number of photos :5\n",
      "\n",
      "Photo : 1\n",
      "Enter the Width :6\n",
      "Enter the Height :3\n",
      "-----UPLOAD ANOTHER-----\n",
      "\n",
      "Photo : 2\n",
      "Enter the Width :4\n",
      "Enter the Height :6\n",
      "-----UPLOAD ANOTHER-----\n",
      "\n",
      "Photo : 3\n",
      "Enter the Width :5\n",
      "Enter the Height :4\n",
      "-----UPLOAD ANOTHER-----\n",
      "\n",
      "Photo : 4\n",
      "Enter the Width :5\n",
      "Enter the Height :5\n",
      "-----ACCEPTED-----\n",
      "\n",
      "Photo : 5\n"
     ]
    }
   ],
   "source": [
    "L = int( input(\"Enter the Length :\"))\n",
    "N =  int(input(\"Enter the number of photos :\"))\n",
    "for i in range(N) :\n",
    "    print(\"\\nPhoto :\", i+1)\n",
    "    W = int(input(\"Enter the Width :\"))\n",
    "    H = int(input(\"Enter the Height :\")) \n",
    "    \n",
    "    # Process\n",
    "    if (W < L or H < L) :\n",
    "        print(\"-----UPLOAD ANOTHER-----\")    \n",
    "    else :\n",
    "        if W == H :\n",
    "            print(\"-----ACCEPTED-----\")\n",
    "        else : \n",
    "            print(\"-----CROP IT-----\")"
   ]
  },
  {
   "cell_type": "code",
   "execution_count": null,
   "metadata": {},
   "outputs": [],
   "source": []
  }
 ],
 "metadata": {
  "kernelspec": {
   "display_name": "Python 3",
   "language": "python",
   "name": "python3"
  },
  "language_info": {
   "codemirror_mode": {
    "name": "ipython",
    "version": 3
   },
   "file_extension": ".py",
   "mimetype": "text/x-python",
   "name": "python",
   "nbconvert_exporter": "python",
   "pygments_lexer": "ipython3",
   "version": "3.6.5"
  }
 },
 "nbformat": 4,
 "nbformat_minor": 2
}
