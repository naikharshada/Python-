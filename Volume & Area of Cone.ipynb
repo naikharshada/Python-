{
 "cells": [
  {
   "cell_type": "markdown",
   "metadata": {},
   "source": [
    "# For this challenge, create a Cone class that has two attributes:\n",
    "* R = Radius\n",
    "* h = height\n",
    "and two methods:\n",
    "* Volume - π × r² × (h/3)\n",
    "* Surface area: base: π × r², side: π × r × √(r²+h²)\n",
    "Make only one class with functions, as in where required Import Math"
   ]
  },
  {
   "cell_type": "code",
   "execution_count": 21,
   "metadata": {},
   "outputs": [],
   "source": [
    "import math\n",
    "class Cone():\n",
    "    def __init__(self, radius , height) :\n",
    "        self.r = radius\n",
    "        self.h = height\n",
    "        \n",
    "    def volume(self) :\n",
    "        return math.pi * self.r * self.r * self.h/3 \n",
    "    \n",
    "    def Abase(self) : \n",
    "        return math.pi*self.r*self.r\n",
    "    \n",
    "    def Aside(self) : \n",
    "        return math.pi*self.r*math.sqrt((self.r*self.r)+(self.h*self.h)) \n",
    "    \n",
    "    def show(self) : \n",
    "        print(\"Radius of Cone is : \",self.r)\n",
    "        print(\"Height of Cone is : \",self.h)\n",
    "    "
   ]
  },
  {
   "cell_type": "code",
   "execution_count": 22,
   "metadata": {},
   "outputs": [],
   "source": [
    "b = Cone(5,10)"
   ]
  },
  {
   "cell_type": "code",
   "execution_count": 23,
   "metadata": {},
   "outputs": [
    {
     "data": {
      "text/plain": [
       "261.79938779914943"
      ]
     },
     "execution_count": 23,
     "metadata": {},
     "output_type": "execute_result"
    }
   ],
   "source": [
    "b.volume()"
   ]
  },
  {
   "cell_type": "code",
   "execution_count": 24,
   "metadata": {},
   "outputs": [
    {
     "data": {
      "text/plain": [
       "175.62036827601816"
      ]
     },
     "execution_count": 24,
     "metadata": {},
     "output_type": "execute_result"
    }
   ],
   "source": [
    "b.Aside()"
   ]
  },
  {
   "cell_type": "code",
   "execution_count": 25,
   "metadata": {},
   "outputs": [
    {
     "data": {
      "text/plain": [
       "78.53981633974483"
      ]
     },
     "execution_count": 25,
     "metadata": {},
     "output_type": "execute_result"
    }
   ],
   "source": [
    "b.Abase()"
   ]
  },
  {
   "cell_type": "code",
   "execution_count": 26,
   "metadata": {},
   "outputs": [
    {
     "name": "stdout",
     "output_type": "stream",
     "text": [
      "Radius of Cone is :  5\n",
      "Height of Cone is :  10\n"
     ]
    }
   ],
   "source": [
    "b.show()"
   ]
  }
 ],
 "metadata": {
  "kernelspec": {
   "display_name": "Python 3",
   "language": "python",
   "name": "python3"
  },
  "language_info": {
   "codemirror_mode": {
    "name": "ipython",
    "version": 3
   },
   "file_extension": ".py",
   "mimetype": "text/x-python",
   "name": "python",
   "nbconvert_exporter": "python",
   "pygments_lexer": "ipython3",
   "version": "3.6.5"
  }
 },
 "nbformat": 4,
 "nbformat_minor": 2
}
