{
 "cells": [
  {
   "cell_type": "markdown",
   "metadata": {},
   "source": [
    "# Guessing Team India Score in 20-20 Cricket-\n",
    "WAP gives you a random score of team india in a cricket match, and a player has to guess the score given by computer in between 1 to 250. The rules are:\n",
    "1. If a player's guess is less than 1 or greater than 250, say \"Reduce your expectation for 20-20 Cricket\"\n",
    "2. On a player's input, if their score guess is \n",
    "  \n",
    "  a. within 10 of the number, return \"Close By, you are True Indian Fan!\"\n",
    "  \n",
    "  b. further than 10 away from the number, return \"You don't watch that match!:p\" "
   ]
  },
  {
   "cell_type": "code",
   "execution_count": 2,
   "metadata": {},
   "outputs": [
    {
     "name": "stdout",
     "output_type": "stream",
     "text": [
      "Predict The Score of  The Match :45\n",
      "\n",
      "____________\n",
      "\n",
      "         You Don't Watch That Much !\n",
      "                      Score is :  195 \n",
      "____________\n"
     ]
    }
   ],
   "source": [
    "# generate random number\n",
    "import random\n",
    "\n",
    "score =  random.randint(1,250)\n",
    "predict = int(input(\"Predict The Score of  The Match :\")) \n",
    "print(\"\\n____________\\n\")\n",
    "\n",
    "\n",
    "if 1 < predict < 250 :\n",
    "    if ((score -10) < predict < (score + 10)) :\n",
    "        print(\"Close By, you are True Indian Fan !\")\n",
    "        \n",
    "    else : \n",
    "                print(\"         You Don't Watch That Much !\")\n",
    "else :\n",
    "        print(\"Reduce Your Expectation for 20-20 Cricket \")\n",
    "        \n",
    "print(\"                      Score is : \",score,\"\\n____________\")"
   ]
  },
  {
   "cell_type": "code",
   "execution_count": null,
   "metadata": {},
   "outputs": [],
   "source": []
  },
  {
   "cell_type": "code",
   "execution_count": null,
   "metadata": {},
   "outputs": [],
   "source": []
  },
  {
   "cell_type": "code",
   "execution_count": null,
   "metadata": {},
   "outputs": [],
   "source": []
  },
  {
   "cell_type": "code",
   "execution_count": null,
   "metadata": {},
   "outputs": [],
   "source": []
  },
  {
   "cell_type": "code",
   "execution_count": null,
   "metadata": {},
   "outputs": [],
   "source": []
  },
  {
   "cell_type": "code",
   "execution_count": null,
   "metadata": {},
   "outputs": [],
   "source": []
  },
  {
   "cell_type": "code",
   "execution_count": null,
   "metadata": {},
   "outputs": [],
   "source": []
  },
  {
   "cell_type": "code",
   "execution_count": null,
   "metadata": {},
   "outputs": [],
   "source": []
  },
  {
   "cell_type": "code",
   "execution_count": null,
   "metadata": {},
   "outputs": [],
   "source": []
  }
 ],
 "metadata": {
  "kernelspec": {
   "display_name": "Python 3",
   "language": "python",
   "name": "python3"
  },
  "language_info": {
   "codemirror_mode": {
    "name": "ipython",
    "version": 3
   },
   "file_extension": ".py",
   "mimetype": "text/x-python",
   "name": "python",
   "nbconvert_exporter": "python",
   "pygments_lexer": "ipython3",
   "version": "3.6.5"
  }
 },
 "nbformat": 4,
 "nbformat_minor": 2
}
