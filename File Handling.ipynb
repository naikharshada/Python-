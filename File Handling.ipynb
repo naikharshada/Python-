{
 "cells": [
  {
   "cell_type": "markdown",
   "metadata": {},
   "source": [
    "# WAP to Handle using Python Script\n",
    "1. Opening a File\n",
    "2. Writing-I love FCS\n",
    "3. Close the file\n",
    "4. Open the File again\n",
    "5. Show the content on screen "
   ]
  },
  {
   "cell_type": "code",
   "execution_count": 8,
   "metadata": {},
   "outputs": [],
   "source": [
    "# Opening a File\n",
    "file = open(\"Home.txt\",\"w\")\n",
    "\n",
    "# writing-I love FCS\n",
    "file.write(\"(I Love FCS)\")\n",
    "\n",
    "# Close the file\n",
    "file.close()"
   ]
  },
  {
   "cell_type": "code",
   "execution_count": 10,
   "metadata": {},
   "outputs": [
    {
     "name": "stdout",
     "output_type": "stream",
     "text": [
      "(I Love FCS)\n"
     ]
    }
   ],
   "source": [
    "# Open the file again\n",
    "file = open(\"Home.txt\",\"r\")\n",
    "content = file.read()\n",
    "\n",
    "# Show the content on the screen\n",
    "print(content)\n",
    "file.close()"
   ]
  },
  {
   "cell_type": "code",
   "execution_count": null,
   "metadata": {},
   "outputs": [],
   "source": []
  },
  {
   "cell_type": "code",
   "execution_count": null,
   "metadata": {},
   "outputs": [],
   "source": []
  }
 ],
 "metadata": {
  "kernelspec": {
   "display_name": "Python 3",
   "language": "python",
   "name": "python3"
  },
  "language_info": {
   "codemirror_mode": {
    "name": "ipython",
    "version": 3
   },
   "file_extension": ".py",
   "mimetype": "text/x-python",
   "name": "python",
   "nbconvert_exporter": "python",
   "pygments_lexer": "ipython3",
   "version": "3.6.5"
  }
 },
 "nbformat": 4,
 "nbformat_minor": 2
}
